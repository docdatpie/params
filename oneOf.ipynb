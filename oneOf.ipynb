{
 "cells": [
  {
   "cell_type": "markdown",
   "id": "f45b8697-ea50-4cc0-9248-ff53b7e72d6d",
   "metadata": {},
   "source": [
    "# Scratch with Params"
   ]
  },
  {
   "cell_type": "code",
   "execution_count": 1,
   "id": "2e779f95-f219-4d44-8e73-96089ac5f1a1",
   "metadata": {},
   "outputs": [
    {
     "data": {
      "text/plain": [
       "'1.12.2'"
      ]
     },
     "execution_count": 1,
     "metadata": {},
     "output_type": "execute_result"
    }
   ],
   "source": [
    "import param\n",
    "param.__version__"
   ]
  },
  {
   "cell_type": "code",
   "execution_count": 2,
   "id": "3cc8a79b-b4cc-44c8-91a4-2855bad6492b",
   "metadata": {},
   "outputs": [
    {
     "data": {
      "text/plain": [
       "Bla(name='Bla00002')"
      ]
     },
     "execution_count": 2,
     "metadata": {},
     "output_type": "execute_result"
    }
   ],
   "source": [
    "class Bla(param.Parameterized):\n",
    "    pass\n",
    "\n",
    "Bla()"
   ]
  },
  {
   "cell_type": "code",
   "execution_count": 3,
   "id": "caf7cb90-035f-49f0-8bc7-71fe10a87bf7",
   "metadata": {},
   "outputs": [],
   "source": [
    "class Person(param.Parameterized):\n",
    "    name = param.String()\n",
    "    birthyear = param.Integer()\n",
    "    "
   ]
  },
  {
   "cell_type": "code",
   "execution_count": 4,
   "id": "dc947d88-205d-4bf3-a000-d438a641a843",
   "metadata": {},
   "outputs": [
    {
     "data": {
      "text/plain": [
       "Person(birthyear=0, name='Person00003')"
      ]
     },
     "execution_count": 4,
     "metadata": {},
     "output_type": "execute_result"
    }
   ],
   "source": [
    "p = Person()\n",
    "p"
   ]
  },
  {
   "cell_type": "code",
   "execution_count": 5,
   "id": "c7cf4edc-2efd-4bd0-91a2-260a9374f599",
   "metadata": {},
   "outputs": [
    {
     "data": {
      "text/plain": [
       "Person(birthyear=84, name='Person00003')"
      ]
     },
     "execution_count": 5,
     "metadata": {},
     "output_type": "execute_result"
    }
   ],
   "source": [
    "p.birthyear = 84\n",
    "p"
   ]
  },
  {
   "cell_type": "code",
   "execution_count": 6,
   "id": "8e7b3b62-18ea-4f28-8886-2c1af86817d5",
   "metadata": {},
   "outputs": [
    {
     "data": {
      "text/plain": [
       "Person(birthyear=84, name='carlos')"
      ]
     },
     "execution_count": 6,
     "metadata": {},
     "output_type": "execute_result"
    }
   ],
   "source": [
    "p.name = 'carlos'\n",
    "p"
   ]
  },
  {
   "cell_type": "code",
   "execution_count": 7,
   "id": "3da2b7d1-1e2d-4536-966b-80b5168e34ef",
   "metadata": {},
   "outputs": [],
   "source": [
    "class Org(param.Parameterized):\n",
    "    name = param.String()\n",
    "    city = param.String()\n",
    "    "
   ]
  },
  {
   "cell_type": "code",
   "execution_count": 8,
   "id": "f37ce652-88cb-400f-8fbf-b7fb91815821",
   "metadata": {},
   "outputs": [
    {
     "data": {
      "text/plain": [
       "Org(city='', name='Org00004')"
      ]
     },
     "execution_count": 8,
     "metadata": {},
     "output_type": "execute_result"
    }
   ],
   "source": [
    "o = Org()\n",
    "o"
   ]
  },
  {
   "cell_type": "code",
   "execution_count": 9,
   "id": "3f801f14-b72c-49b1-b762-b3ed54497ad6",
   "metadata": {},
   "outputs": [],
   "source": [
    "class OneOf(param.Parameterized):\n",
    "    select = param.Selector([Org, Person])\n"
   ]
  },
  {
   "cell_type": "code",
   "execution_count": 10,
   "id": "d2fd9e0a-4df4-4630-aed7-d815f7816e6c",
   "metadata": {},
   "outputs": [
    {
     "data": {
      "text/plain": [
       "OneOf(name='OneOf00005', select=<class '__main__.Org'>)"
      ]
     },
     "execution_count": 10,
     "metadata": {},
     "output_type": "execute_result"
    }
   ],
   "source": [
    "oneOf = OneOf()\n",
    "oneOf"
   ]
  },
  {
   "cell_type": "code",
   "execution_count": 11,
   "id": "a9f1f722-7f43-4594-b9e3-9527eeb8887d",
   "metadata": {},
   "outputs": [
    {
     "name": "stdout",
     "output_type": "stream",
     "text": [
      "<class '__main__.OneOf'>\n"
     ]
    }
   ],
   "source": [
    "print(OneOf)"
   ]
  },
  {
   "cell_type": "code",
   "execution_count": 12,
   "id": "a0817f3a-8ba1-4cb7-a81d-8d6f4f080be2",
   "metadata": {},
   "outputs": [
    {
     "data": {
      "text/plain": [
       "[__main__.Org, __main__.Person]"
      ]
     },
     "execution_count": 12,
     "metadata": {},
     "output_type": "execute_result"
    }
   ],
   "source": [
    "oneOf.param.select.objects"
   ]
  },
  {
   "cell_type": "code",
   "execution_count": 13,
   "id": "e6bbb572-ee65-4a08-b3a7-3a203ee8b4fe",
   "metadata": {},
   "outputs": [
    {
     "data": {
      "text/plain": [
       "['_Org__params',\n",
       " '_Parameterized__db_print',\n",
       " '_Parameterized__params',\n",
       " '__class__',\n",
       " '__delattr__',\n",
       " '__dict__',\n",
       " '__dir__',\n",
       " '__doc__',\n",
       " '__eq__',\n",
       " '__format__',\n",
       " '__ge__',\n",
       " '__getattribute__',\n",
       " '__getstate__',\n",
       " '__gt__',\n",
       " '__hash__',\n",
       " '__init__',\n",
       " '__init_subclass__',\n",
       " '__le__',\n",
       " '__lt__',\n",
       " '__module__',\n",
       " '__ne__',\n",
       " '__new__',\n",
       " '__reduce__',\n",
       " '__reduce_ex__',\n",
       " '__repr__',\n",
       " '__setattr__',\n",
       " '__setstate__',\n",
       " '__sizeof__',\n",
       " '__str__',\n",
       " '__subclasshook__',\n",
       " '__weakref__',\n",
       " '_add_parameter',\n",
       " '_param',\n",
       " '_parameters_state',\n",
       " '_pprint',\n",
       " '_set_name',\n",
       " 'city',\n",
       " 'debug',\n",
       " 'defaults',\n",
       " 'force_new_dynamic_value',\n",
       " 'get_param_values',\n",
       " 'get_value_generator',\n",
       " 'inspect_value',\n",
       " 'message',\n",
       " 'name',\n",
       " 'param',\n",
       " 'params',\n",
       " 'pprint',\n",
       " 'print_param_defaults',\n",
       " 'print_param_values',\n",
       " 'script_repr',\n",
       " 'set_default',\n",
       " 'set_dynamic_time_fn',\n",
       " 'set_param',\n",
       " 'state_pop',\n",
       " 'state_push',\n",
       " 'verbose',\n",
       " 'warning']"
      ]
     },
     "execution_count": 13,
     "metadata": {},
     "output_type": "execute_result"
    }
   ],
   "source": [
    "dir(oneOf.param.select.objects[0])"
   ]
  },
  {
   "cell_type": "code",
   "execution_count": 14,
   "id": "ff4a571c-aee4-424f-af7c-0867dc22ab9e",
   "metadata": {},
   "outputs": [
    {
     "name": "stderr",
     "output_type": "stream",
     "text": [
      "WARNING:param.ParameterizedMetaclass: Use method 'params' via param namespace \n"
     ]
    },
    {
     "data": {
      "text/plain": [
       "{'name': <param.parameterized.String at 0x10b9c77e0>,\n",
       " 'city': <param.parameterized.String at 0x10b9c7880>}"
      ]
     },
     "execution_count": 14,
     "metadata": {},
     "output_type": "execute_result"
    }
   ],
   "source": [
    "oneOf.param.select.objects[0].params()"
   ]
  },
  {
   "cell_type": "code",
   "execution_count": 15,
   "id": "da3dd8e8-c4ba-4431-8340-624e60cd8f52",
   "metadata": {},
   "outputs": [
    {
     "data": {
      "text/plain": [
       "{'name': <param.parameterized.String at 0x10b9c77e0>,\n",
       " 'city': <param.parameterized.String at 0x10b9c7880>}"
      ]
     },
     "execution_count": 15,
     "metadata": {},
     "output_type": "execute_result"
    }
   ],
   "source": [
    "oneOf.param.select.objects[0].param.params()"
   ]
  },
  {
   "cell_type": "code",
   "execution_count": 16,
   "id": "334bcffe-1a11-4be6-9d74-03ef7f5ba867",
   "metadata": {},
   "outputs": [
    {
     "data": {
      "text/plain": [
       "{'name': <param.parameterized.String at 0x10b9c7560>,\n",
       " 'birthyear': <param.Integer at 0x10b75b280>}"
      ]
     },
     "execution_count": 16,
     "metadata": {},
     "output_type": "execute_result"
    }
   ],
   "source": [
    "oneOf.param.select.objects[1].param.params()"
   ]
  },
  {
   "cell_type": "code",
   "execution_count": null,
   "id": "5e87274a-da3f-450f-9ec8-3fa823d430b5",
   "metadata": {},
   "outputs": [],
   "source": []
  }
 ],
 "metadata": {
  "kernelspec": {
   "display_name": "invenio_tools",
   "language": "python",
   "name": "invenio_tools"
  },
  "language_info": {
   "codemirror_mode": {
    "name": "ipython",
    "version": 3
   },
   "file_extension": ".py",
   "mimetype": "text/x-python",
   "name": "python",
   "nbconvert_exporter": "python",
   "pygments_lexer": "ipython3",
   "version": "3.10.5"
  }
 },
 "nbformat": 4,
 "nbformat_minor": 5
}
